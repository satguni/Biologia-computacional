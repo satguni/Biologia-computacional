{
  "nbformat": 4,
  "nbformat_minor": 0,
  "metadata": {
    "colab": {
      "provenance": []
    },
    "kernelspec": {
      "name": "ir",
      "display_name": "R"
    },
    "language_info": {
      "name": "R"
    }
  },
  "cells": [
    {
      "cell_type": "code",
      "execution_count": 2,
      "metadata": {
        "colab": {
          "base_uri": "https://localhost:8080/"
        },
        "id": "og703cdB8PaL",
        "outputId": "cd1c2733-7f18-49ea-a733-d44d9d157ad6"
      },
      "outputs": [
        {
          "output_type": "stream",
          "name": "stderr",
          "text": [
            "Installing package into ‘/usr/local/lib/R/site-library’\n",
            "(as ‘lib’ is unspecified)\n",
            "\n",
            "Installing package into ‘/usr/local/lib/R/site-library’\n",
            "(as ‘lib’ is unspecified)\n",
            "\n",
            "\n",
            "Attaching package: ‘dplyr’\n",
            "\n",
            "\n",
            "The following objects are masked from ‘package:stats’:\n",
            "\n",
            "    filter, lag\n",
            "\n",
            "\n",
            "The following objects are masked from ‘package:base’:\n",
            "\n",
            "    intersect, setdiff, setequal, union\n",
            "\n",
            "\n"
          ]
        }
      ],
      "source": [
        "install.packages(\"dplyr\", repos='http://cran.us.r-project.org')\n",
        "install.packages(\"ggplot2\", repos='http://cran.us.r-project.org')\n",
        "library(dplyr)\n",
        "library(ggplot2)"
      ]
    },
    {
      "cell_type": "code",
      "source": [
        "datos <- data.frame(\n",
        "  Familia = c(\"Urticaceae cecropia\", \"Rhamnaceae\", \"Dilleniaceae\", \"Metastomataceae\",\n",
        "              \"Cannabaceae Trema\", \"Myrtaceae\", \"Polypodiaceae\", \"Malvaceae  Heliocarpus\",\n",
        "              \"Fabaceae macrolobium\", \"Poaceae\", \"Malvaceae Bombacoideae\", \"Loranthaceae oryctanthus\"),\n",
        "  Conteo = c(845, 120, 56, 39, 12, 21, 10, 7, 8, 6, 5, 4)\n",
        ")\n",
        "\n",
        "datos <- datos %>%\n",
        "  mutate(Porcentaje = Conteo / sum(Conteo) * 100)\n",
        "\n",
        "print(datos)"
      ],
      "metadata": {
        "colab": {
          "base_uri": "https://localhost:8080/"
        },
        "id": "1f-3mM_aDiHH",
        "outputId": "e6fe264d-57f5-47b8-9de0-51e98faba33d"
      },
      "execution_count": 3,
      "outputs": [
        {
          "output_type": "stream",
          "name": "stdout",
          "text": [
            "                    Familia Conteo Porcentaje\n",
            "1       Urticaceae cecropia    845 74.5807590\n",
            "2                Rhamnaceae    120 10.5913504\n",
            "3              Dilleniaceae     56  4.9426302\n",
            "4           Metastomataceae     39  3.4421889\n",
            "5         Cannabaceae Trema     12  1.0591350\n",
            "6                 Myrtaceae     21  1.8534863\n",
            "7             Polypodiaceae     10  0.8826125\n",
            "8    Malvaceae  Heliocarpus      7  0.6178288\n",
            "9      Fabaceae macrolobium      8  0.7060900\n",
            "10                  Poaceae      6  0.5295675\n",
            "11   Malvaceae Bombacoideae      5  0.4413063\n",
            "12 Loranthaceae oryctanthus      4  0.3530450\n"
          ]
        }
      ]
    },
    {
      "cell_type": "code",
      "source": [
        "ggplot(datos, aes(x = reorder(Familia, Porcentaje), y = Porcentaje)) +\n",
        "  geom_bar(stat = \"identity\", fill = \"lightgreen\") +\n",
        "  coord_flip() +\n",
        "  labs(title = \"Distribución porcentual del polen por familia\",\n",
        "       x = \"\", y = \"% de polen\") +\n",
        "  theme_minimal()"
      ],
      "metadata": {
        "colab": {
          "base_uri": "https://localhost:8080/",
          "height": 437
        },
        "id": "a9v2qf-GDqG3",
        "outputId": "f43a6598-c418-44ea-ee3e-79c9385e0f16"
      },
      "execution_count": 10,
      "outputs": [
        {
          "output_type": "display_data",
          "data": {
            "text/plain": [
              "plot without title"
            ],
            "image/png": "[encoded data removed]"
          },
          "metadata": {
            "image/png": {
              "width": 420,
              "height": 420
            }
          }
        }
      ]
    }
  ]
}